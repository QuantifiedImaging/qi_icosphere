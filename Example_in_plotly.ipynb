{
 "cells": [
  {
   "cell_type": "markdown",
   "id": "4ab86694",
   "metadata": {},
   "source": [
    "[![Open In Colab](https://colab.research.google.com/assets/colab-badge.svg)](https://colab.research.google.com/github/vedranaa/icosphere/blob/main/Example_in_plotly.ipynb)\n",
    "\n",
    "# Icosphere\n",
    "\n",
    "Showing how module `icosphere` is to be used to generate geodesic icosahedron for a given subdivision frequency `nu`. If you run the notebook in colab, you will need to pip install icosphere. Otherwise, you may skip the next cell.\n"
   ]
  },
  {
   "cell_type": "code",
   "execution_count": null,
   "id": "33b93ec7",
   "metadata": {},
   "outputs": [],
   "source": [
    "!pip install icosphere"
   ]
  },
  {
   "cell_type": "code",
   "execution_count": null,
   "id": "dd8d0fa5",
   "metadata": {},
   "outputs": [],
   "source": [
    "import numpy as np\n",
    "import icosphere\n",
    "import numpy as np\n",
    "import plotly.graph_objects as go\n",
    "from plotly.subplots import make_subplots\n",
    "\n",
    "def mesh_plot(vertices, faces):\n",
    "    gm = go.Mesh3d(x=vertices[:,0], y=vertices[:,1], z=vertices[:,2], \n",
    "            i=faces[:,0], j=faces[:,1], k=faces[:,2])\n",
    "    return gm\n",
    "\n",
    "def wireframe_plot(vertices, faces):\n",
    "    \n",
    "    Xe = np.concatenate((vertices[faces, 0], np.full((faces.shape[0],1), None)),\n",
    "                        axis=1).ravel()\n",
    "    Ye = np.concatenate((vertices[faces, 1], np.full((faces.shape[0],1), None)),\n",
    "                        axis=1).ravel()\n",
    "    Ze = np.concatenate((vertices[faces, 2], np.full((faces.shape[0],1), None)),\n",
    "                        axis=1).ravel()\n",
    "    \n",
    "    gm = go.Scatter3d(x=Xe, y=Ye, z=Ze, mode='lines', name='',\n",
    "            line=dict(color= 'rgb(40,40,40)', width=1))  \n",
    "    return gm\n",
    "\n",
    "nu = 15\n",
    "vertices, faces = icosphere.icosphere(nu)\n",
    "\n",
    "fig = go.Figure()\n",
    "        \n",
    "fig.add_trace(mesh_plot(vertices, faces))        \n",
    "fig.add_trace(wireframe_plot(vertices, faces));\n",
    "\n",
    "fig.update_layout(title_text='Icosphere', height=600, width=600)\n",
    "fig.show()"
   ]
  },
  {
   "cell_type": "code",
   "execution_count": null,
   "id": "13c9c591",
   "metadata": {},
   "outputs": [],
   "source": [
    "fig = make_subplots(rows=2, cols=3,\n",
    "                    specs=[[{'type': 'surface'}, {'type': 'surface'}, {'type': 'surface'}],\n",
    "                           [{'type': 'surface'}, {'type': 'surface'}, {'type': 'surface'}]])\n",
    "\n",
    "for i in range(2):\n",
    "    for j in range(3):\n",
    "        \n",
    "        nu = 1 + j + 3*i\n",
    "        vertices, faces = icosphere.icosphere(nu)\n",
    "        fig.add_trace(mesh_plot(vertices, faces), row=i+1, col=j+1)\n",
    "        fig.add_trace(wireframe_plot(vertices, faces), row=i+1, col=j+1);\n",
    "        \n",
    "\n",
    "fig.update_layout(title_text='Different values of nu', height=600, width=800, showlegend=False)\n",
    "fig.show()"
   ]
  }
 ],
 "metadata": {
  "kernelspec": {
   "display_name": "Python 3 (ipykernel)",
   "language": "python",
   "name": "python3"
  },
  "language_info": {
   "codemirror_mode": {
    "name": "ipython",
    "version": 3
   },
   "file_extension": ".py",
   "mimetype": "text/x-python",
   "name": "python",
   "nbconvert_exporter": "python",
   "pygments_lexer": "ipython3",
   "version": "3.9.12"
  }
 },
 "nbformat": 4,
 "nbformat_minor": 5
}
